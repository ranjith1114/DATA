{
 "cells": [
  {
   "cell_type": "markdown",
   "id": "25834503-f8f5-4973-8f1d-d94c2e10aeeb",
   "metadata": {},
   "source": [
    "# DATA 601 - HW05\n",
    "Due date: November 27, 2022, 23:59 pm"
   ]
  },
  {
   "cell_type": "markdown",
   "id": "cc6ce2f4-c0b7-4990-91cf-f92018392b95",
   "metadata": {},
   "source": [
    "### Q1. (10 points)\n",
    "Training and validation dataset: https://raw.githubusercontent.com/simsekergun/DATA601/main/2021Fall/datasets/HouseTraining.csv\n",
    "\n",
    "* The last column of the HouseTraining.csv file lists price of 400 houses.\n",
    "* There are 11 features\n",
    "  * School rating (integer between 1 and 10)\n",
    "  * House Area (sq ft)\n",
    "  * Lot Area (sq ft)\n",
    "  * Number of rooms\n",
    "  * Number of bathrooms\n",
    "  * Garage Yes:1, No: 0\n",
    "  * Pool Yes:1, No: 0\n",
    "  * Age of the House (years)\n",
    "  * Walkability rating (something between 1 and 10)\n",
    "  * Crime rate (something between 1 and 10)\n",
    "  * Zipcode (Note that this is a fake data) \n",
    "  * House price ($)\n",
    "\n",
    "Here are questions <br>\n",
    "<b>1.1</b> Calculate the average crime rate for each zip code determine the zipcode with highest average crime rate? <br>\n",
    "<b>1.2</b> Calculate the average house price for each zip code determine the zipcode with lowest average house price? Do you see a pattern? <br>\n",
    "<b>1.3 </b> What feature has the strongest correlation with the \"School_Rating\" <br>\n",
    "<b>1.4</b> Split your dataset into two (training 80\\%, validation (testing) \\%20, random_state=1). Build a multiple linear regression model to estimate the house price from all the other features we have and calculate the maximum relative error using $100*\\mathrm{max}|(y_i-\\hat{y}_i)/y_i|$ and $R^2$, where $y_i$ is the true value for the $i^{th}$ case in your testing data set and $\\hat{y}_i$ is the prediction. <br>\n",
    "<b>1.5</b> Download the new test dataset (https://raw.githubusercontent.com/simsekergun/DATA601/main/2021Fall/datasets/HouseTest.csv), guess the prices of these 10 houses featured in this dataset and print your predictions. Note that this dataset doesn't include \"House_Price\" column which was given in the training dataset."
   ]
  },
  {
   "cell_type": "code",
   "execution_count": 1,
   "id": "1dfe095f",
   "metadata": {},
   "outputs": [],
   "source": [
    "import pandas as pd\n",
    "import numpy as np\n",
    "import seaborn as sns\n",
    "import matplotlib.pyplot as plt\n",
    "from matplotlib.pyplot import bar\n",
    "from sklearn.linear_model import LinearRegression\n",
    "from sklearn.metrics import mean_squared_error\n",
    "from sklearn.metrics import r2_score\n",
    "from sklearn.model_selection import train_test_split\n",
    "from sklearn.linear_model import LogisticRegression\n",
    "from sklearn.metrics import confusion_matrix\n"
   ]
  },
  {
   "cell_type": "code",
   "execution_count": 2,
   "id": "42bceebd",
   "metadata": {},
   "outputs": [],
   "source": [
    "data = pd.read_csv('https://raw.githubusercontent.com/simsekergun/DATA601/main/2021Fall/datasets/HouseTraining.csv').drop(\"Unnamed: 0\",axis=1)"
   ]
  },
  {
   "cell_type": "markdown",
   "id": "673ad092",
   "metadata": {},
   "source": [
    "1.1 Calculate the average crime rate for each zip code determine the zipcode with highest average crime rate?"
   ]
  },
  {
   "cell_type": "code",
   "execution_count": 3,
   "id": "007646d6",
   "metadata": {},
   "outputs": [
    {
     "data": {
      "text/plain": [
       "Zipcode\n",
       "20140    6.511905\n",
       "20174    6.368421\n",
       "20119    4.610390\n",
       "20182    4.500000\n",
       "20104    4.283784\n",
       "Name: Crime_Rate, dtype: float64"
      ]
     },
     "execution_count": 3,
     "metadata": {},
     "output_type": "execute_result"
    }
   ],
   "source": [
    "data.groupby('Zipcode')['Crime_Rate'].mean().sort_values(ascending = False)"
   ]
  },
  {
   "cell_type": "markdown",
   "id": "27e71ac3",
   "metadata": {},
   "source": [
    "#### Zipcode with \"20140\" has the highst average crime rate with 6.5."
   ]
  },
  {
   "cell_type": "code",
   "execution_count": 4,
   "id": "54eeba16",
   "metadata": {},
   "outputs": [
    {
     "data": {
      "text/html": [
       "<div>\n",
       "<style scoped>\n",
       "    .dataframe tbody tr th:only-of-type {\n",
       "        vertical-align: middle;\n",
       "    }\n",
       "\n",
       "    .dataframe tbody tr th {\n",
       "        vertical-align: top;\n",
       "    }\n",
       "\n",
       "    .dataframe thead th {\n",
       "        text-align: right;\n",
       "    }\n",
       "</style>\n",
       "<table border=\"1\" class=\"dataframe\">\n",
       "  <thead>\n",
       "    <tr style=\"text-align: right;\">\n",
       "      <th></th>\n",
       "      <th>School_Rating</th>\n",
       "      <th>House_Area</th>\n",
       "      <th>Lot_Area</th>\n",
       "      <th>Room_No</th>\n",
       "      <th>Bath_No</th>\n",
       "      <th>Garage</th>\n",
       "      <th>Pool</th>\n",
       "      <th>House_Age</th>\n",
       "      <th>Walkability</th>\n",
       "      <th>Crime_Rate</th>\n",
       "      <th>Zipcode</th>\n",
       "      <th>House_Price</th>\n",
       "    </tr>\n",
       "  </thead>\n",
       "  <tbody>\n",
       "    <tr>\n",
       "      <th>0</th>\n",
       "      <td>8</td>\n",
       "      <td>3672</td>\n",
       "      <td>7364</td>\n",
       "      <td>5.0</td>\n",
       "      <td>5.0</td>\n",
       "      <td>1.0</td>\n",
       "      <td>0.0</td>\n",
       "      <td>8</td>\n",
       "      <td>8.0</td>\n",
       "      <td>4</td>\n",
       "      <td>20104</td>\n",
       "      <td>15332000.0</td>\n",
       "    </tr>\n",
       "    <tr>\n",
       "      <th>1</th>\n",
       "      <td>6</td>\n",
       "      <td>1743</td>\n",
       "      <td>3893</td>\n",
       "      <td>2.0</td>\n",
       "      <td>2.0</td>\n",
       "      <td>0.0</td>\n",
       "      <td>0.0</td>\n",
       "      <td>33</td>\n",
       "      <td>5.0</td>\n",
       "      <td>8</td>\n",
       "      <td>20140</td>\n",
       "      <td>6411000.0</td>\n",
       "    </tr>\n",
       "    <tr>\n",
       "      <th>2</th>\n",
       "      <td>8</td>\n",
       "      <td>2242</td>\n",
       "      <td>5199</td>\n",
       "      <td>3.0</td>\n",
       "      <td>3.0</td>\n",
       "      <td>1.0</td>\n",
       "      <td>0.0</td>\n",
       "      <td>34</td>\n",
       "      <td>7.0</td>\n",
       "      <td>6</td>\n",
       "      <td>20182</td>\n",
       "      <td>8931000.0</td>\n",
       "    </tr>\n",
       "    <tr>\n",
       "      <th>3</th>\n",
       "      <td>8</td>\n",
       "      <td>2257</td>\n",
       "      <td>4699</td>\n",
       "      <td>3.0</td>\n",
       "      <td>3.0</td>\n",
       "      <td>0.0</td>\n",
       "      <td>1.0</td>\n",
       "      <td>42</td>\n",
       "      <td>6.0</td>\n",
       "      <td>5</td>\n",
       "      <td>20182</td>\n",
       "      <td>8662000.0</td>\n",
       "    </tr>\n",
       "    <tr>\n",
       "      <th>4</th>\n",
       "      <td>8</td>\n",
       "      <td>2436</td>\n",
       "      <td>5200</td>\n",
       "      <td>3.0</td>\n",
       "      <td>3.0</td>\n",
       "      <td>1.0</td>\n",
       "      <td>0.0</td>\n",
       "      <td>70</td>\n",
       "      <td>7.0</td>\n",
       "      <td>6</td>\n",
       "      <td>20182</td>\n",
       "      <td>9098000.0</td>\n",
       "    </tr>\n",
       "  </tbody>\n",
       "</table>\n",
       "</div>"
      ],
      "text/plain": [
       "   School_Rating  House_Area  Lot_Area  Room_No  Bath_No  Garage  Pool  \\\n",
       "0              8        3672      7364      5.0      5.0     1.0   0.0   \n",
       "1              6        1743      3893      2.0      2.0     0.0   0.0   \n",
       "2              8        2242      5199      3.0      3.0     1.0   0.0   \n",
       "3              8        2257      4699      3.0      3.0     0.0   1.0   \n",
       "4              8        2436      5200      3.0      3.0     1.0   0.0   \n",
       "\n",
       "   House_Age  Walkability  Crime_Rate  Zipcode  House_Price  \n",
       "0          8          8.0           4    20104   15332000.0  \n",
       "1         33          5.0           8    20140    6411000.0  \n",
       "2         34          7.0           6    20182    8931000.0  \n",
       "3         42          6.0           5    20182    8662000.0  \n",
       "4         70          7.0           6    20182    9098000.0  "
      ]
     },
     "execution_count": 4,
     "metadata": {},
     "output_type": "execute_result"
    }
   ],
   "source": [
    "data.head()"
   ]
  },
  {
   "cell_type": "markdown",
   "id": "7fd81601",
   "metadata": {},
   "source": [
    "1.2 Calculate the average house price for each zip code determine the zipcode with lowest average house price? Do you see a pattern?"
   ]
  },
  {
   "cell_type": "code",
   "execution_count": 29,
   "id": "a41d106e",
   "metadata": {},
   "outputs": [
    {
     "data": {
      "text/plain": [
       "Zipcode\n",
       "20140    1.030618e+07\n",
       "20174    1.063704e+07\n",
       "20104    1.083254e+07\n",
       "20119    1.087213e+07\n",
       "20182    1.090149e+07\n",
       "Name: House_Price, dtype: float64"
      ]
     },
     "execution_count": 29,
     "metadata": {},
     "output_type": "execute_result"
    }
   ],
   "source": [
    "data.groupby('Zipcode')['House_Price'].mean().sort_values(ascending = True)"
   ]
  },
  {
   "cell_type": "markdown",
   "id": "cc40ad83",
   "metadata": {},
   "source": [
    "#### - Zipcode with \"20140\" has the lowest house price.\n",
    "#### - We can notice that the values are displayed in exponential."
   ]
  },
  {
   "cell_type": "markdown",
   "id": "66fcc84f",
   "metadata": {},
   "source": [
    "1.3 What feature has the strongest correlation with the \"School_Rating\""
   ]
  },
  {
   "cell_type": "code",
   "execution_count": 6,
   "id": "971fa625",
   "metadata": {},
   "outputs": [
    {
     "data": {
      "text/html": [
       "<div>\n",
       "<style scoped>\n",
       "    .dataframe tbody tr th:only-of-type {\n",
       "        vertical-align: middle;\n",
       "    }\n",
       "\n",
       "    .dataframe tbody tr th {\n",
       "        vertical-align: top;\n",
       "    }\n",
       "\n",
       "    .dataframe thead th {\n",
       "        text-align: right;\n",
       "    }\n",
       "</style>\n",
       "<table border=\"1\" class=\"dataframe\">\n",
       "  <thead>\n",
       "    <tr style=\"text-align: right;\">\n",
       "      <th></th>\n",
       "      <th>School_Rating</th>\n",
       "      <th>House_Area</th>\n",
       "      <th>Lot_Area</th>\n",
       "      <th>Room_No</th>\n",
       "      <th>Bath_No</th>\n",
       "      <th>Garage</th>\n",
       "      <th>Pool</th>\n",
       "      <th>House_Age</th>\n",
       "      <th>Walkability</th>\n",
       "      <th>Crime_Rate</th>\n",
       "      <th>Zipcode</th>\n",
       "      <th>House_Price</th>\n",
       "    </tr>\n",
       "  </thead>\n",
       "  <tbody>\n",
       "    <tr>\n",
       "      <th>School_Rating</th>\n",
       "      <td>1.000000</td>\n",
       "      <td>0.003273</td>\n",
       "      <td>-0.012608</td>\n",
       "      <td>0.005996</td>\n",
       "      <td>0.011234</td>\n",
       "      <td>0.016915</td>\n",
       "      <td>0.001310</td>\n",
       "      <td>-0.114875</td>\n",
       "      <td>0.373675</td>\n",
       "      <td>-0.651958</td>\n",
       "      <td>-0.402891</td>\n",
       "      <td>0.081382</td>\n",
       "    </tr>\n",
       "    <tr>\n",
       "      <th>House_Area</th>\n",
       "      <td>0.003273</td>\n",
       "      <td>1.000000</td>\n",
       "      <td>0.692192</td>\n",
       "      <td>0.956632</td>\n",
       "      <td>0.864089</td>\n",
       "      <td>0.126806</td>\n",
       "      <td>0.038590</td>\n",
       "      <td>0.003496</td>\n",
       "      <td>-0.001421</td>\n",
       "      <td>0.004005</td>\n",
       "      <td>0.050490</td>\n",
       "      <td>0.927668</td>\n",
       "    </tr>\n",
       "    <tr>\n",
       "      <th>Lot_Area</th>\n",
       "      <td>-0.012608</td>\n",
       "      <td>0.692192</td>\n",
       "      <td>1.000000</td>\n",
       "      <td>0.663507</td>\n",
       "      <td>0.628391</td>\n",
       "      <td>0.066005</td>\n",
       "      <td>0.039591</td>\n",
       "      <td>0.003279</td>\n",
       "      <td>0.041527</td>\n",
       "      <td>-0.028160</td>\n",
       "      <td>0.020762</td>\n",
       "      <td>0.875865</td>\n",
       "    </tr>\n",
       "    <tr>\n",
       "      <th>Room_No</th>\n",
       "      <td>0.005996</td>\n",
       "      <td>0.956632</td>\n",
       "      <td>0.663507</td>\n",
       "      <td>1.000000</td>\n",
       "      <td>0.899354</td>\n",
       "      <td>0.160627</td>\n",
       "      <td>0.058216</td>\n",
       "      <td>-0.012671</td>\n",
       "      <td>0.022116</td>\n",
       "      <td>-0.007340</td>\n",
       "      <td>0.018870</td>\n",
       "      <td>0.892501</td>\n",
       "    </tr>\n",
       "    <tr>\n",
       "      <th>Bath_No</th>\n",
       "      <td>0.011234</td>\n",
       "      <td>0.864089</td>\n",
       "      <td>0.628391</td>\n",
       "      <td>0.899354</td>\n",
       "      <td>1.000000</td>\n",
       "      <td>0.126592</td>\n",
       "      <td>0.054423</td>\n",
       "      <td>-0.001166</td>\n",
       "      <td>0.006643</td>\n",
       "      <td>-0.015384</td>\n",
       "      <td>-0.007733</td>\n",
       "      <td>0.816760</td>\n",
       "    </tr>\n",
       "    <tr>\n",
       "      <th>Garage</th>\n",
       "      <td>0.016915</td>\n",
       "      <td>0.126806</td>\n",
       "      <td>0.066005</td>\n",
       "      <td>0.160627</td>\n",
       "      <td>0.126592</td>\n",
       "      <td>1.000000</td>\n",
       "      <td>-0.003750</td>\n",
       "      <td>-0.048396</td>\n",
       "      <td>0.021130</td>\n",
       "      <td>-0.028996</td>\n",
       "      <td>-0.075111</td>\n",
       "      <td>0.124467</td>\n",
       "    </tr>\n",
       "    <tr>\n",
       "      <th>Pool</th>\n",
       "      <td>0.001310</td>\n",
       "      <td>0.038590</td>\n",
       "      <td>0.039591</td>\n",
       "      <td>0.058216</td>\n",
       "      <td>0.054423</td>\n",
       "      <td>-0.003750</td>\n",
       "      <td>1.000000</td>\n",
       "      <td>-0.003237</td>\n",
       "      <td>-0.052538</td>\n",
       "      <td>-0.014438</td>\n",
       "      <td>-0.014279</td>\n",
       "      <td>0.057346</td>\n",
       "    </tr>\n",
       "    <tr>\n",
       "      <th>House_Age</th>\n",
       "      <td>-0.114875</td>\n",
       "      <td>0.003496</td>\n",
       "      <td>0.003279</td>\n",
       "      <td>-0.012671</td>\n",
       "      <td>-0.001166</td>\n",
       "      <td>-0.048396</td>\n",
       "      <td>-0.003237</td>\n",
       "      <td>1.000000</td>\n",
       "      <td>-0.087509</td>\n",
       "      <td>0.065937</td>\n",
       "      <td>0.102555</td>\n",
       "      <td>-0.016291</td>\n",
       "    </tr>\n",
       "    <tr>\n",
       "      <th>Walkability</th>\n",
       "      <td>0.373675</td>\n",
       "      <td>-0.001421</td>\n",
       "      <td>0.041527</td>\n",
       "      <td>0.022116</td>\n",
       "      <td>0.006643</td>\n",
       "      <td>0.021130</td>\n",
       "      <td>-0.052538</td>\n",
       "      <td>-0.087509</td>\n",
       "      <td>1.000000</td>\n",
       "      <td>-0.597465</td>\n",
       "      <td>-0.191964</td>\n",
       "      <td>0.099872</td>\n",
       "    </tr>\n",
       "    <tr>\n",
       "      <th>Crime_Rate</th>\n",
       "      <td>-0.651958</td>\n",
       "      <td>0.004005</td>\n",
       "      <td>-0.028160</td>\n",
       "      <td>-0.007340</td>\n",
       "      <td>-0.015384</td>\n",
       "      <td>-0.028996</td>\n",
       "      <td>-0.014438</td>\n",
       "      <td>0.065937</td>\n",
       "      <td>-0.597465</td>\n",
       "      <td>1.000000</td>\n",
       "      <td>0.270189</td>\n",
       "      <td>-0.142806</td>\n",
       "    </tr>\n",
       "    <tr>\n",
       "      <th>Zipcode</th>\n",
       "      <td>-0.402891</td>\n",
       "      <td>0.050490</td>\n",
       "      <td>0.020762</td>\n",
       "      <td>0.018870</td>\n",
       "      <td>-0.007733</td>\n",
       "      <td>-0.075111</td>\n",
       "      <td>-0.014279</td>\n",
       "      <td>0.102555</td>\n",
       "      <td>-0.191964</td>\n",
       "      <td>0.270189</td>\n",
       "      <td>1.000000</td>\n",
       "      <td>-0.008307</td>\n",
       "    </tr>\n",
       "    <tr>\n",
       "      <th>House_Price</th>\n",
       "      <td>0.081382</td>\n",
       "      <td>0.927668</td>\n",
       "      <td>0.875865</td>\n",
       "      <td>0.892501</td>\n",
       "      <td>0.816760</td>\n",
       "      <td>0.124467</td>\n",
       "      <td>0.057346</td>\n",
       "      <td>-0.016291</td>\n",
       "      <td>0.099872</td>\n",
       "      <td>-0.142806</td>\n",
       "      <td>-0.008307</td>\n",
       "      <td>1.000000</td>\n",
       "    </tr>\n",
       "  </tbody>\n",
       "</table>\n",
       "</div>"
      ],
      "text/plain": [
       "               School_Rating  House_Area  Lot_Area   Room_No   Bath_No  \\\n",
       "School_Rating       1.000000    0.003273 -0.012608  0.005996  0.011234   \n",
       "House_Area          0.003273    1.000000  0.692192  0.956632  0.864089   \n",
       "Lot_Area           -0.012608    0.692192  1.000000  0.663507  0.628391   \n",
       "Room_No             0.005996    0.956632  0.663507  1.000000  0.899354   \n",
       "Bath_No             0.011234    0.864089  0.628391  0.899354  1.000000   \n",
       "Garage              0.016915    0.126806  0.066005  0.160627  0.126592   \n",
       "Pool                0.001310    0.038590  0.039591  0.058216  0.054423   \n",
       "House_Age          -0.114875    0.003496  0.003279 -0.012671 -0.001166   \n",
       "Walkability         0.373675   -0.001421  0.041527  0.022116  0.006643   \n",
       "Crime_Rate         -0.651958    0.004005 -0.028160 -0.007340 -0.015384   \n",
       "Zipcode            -0.402891    0.050490  0.020762  0.018870 -0.007733   \n",
       "House_Price         0.081382    0.927668  0.875865  0.892501  0.816760   \n",
       "\n",
       "                 Garage      Pool  House_Age  Walkability  Crime_Rate  \\\n",
       "School_Rating  0.016915  0.001310  -0.114875     0.373675   -0.651958   \n",
       "House_Area     0.126806  0.038590   0.003496    -0.001421    0.004005   \n",
       "Lot_Area       0.066005  0.039591   0.003279     0.041527   -0.028160   \n",
       "Room_No        0.160627  0.058216  -0.012671     0.022116   -0.007340   \n",
       "Bath_No        0.126592  0.054423  -0.001166     0.006643   -0.015384   \n",
       "Garage         1.000000 -0.003750  -0.048396     0.021130   -0.028996   \n",
       "Pool          -0.003750  1.000000  -0.003237    -0.052538   -0.014438   \n",
       "House_Age     -0.048396 -0.003237   1.000000    -0.087509    0.065937   \n",
       "Walkability    0.021130 -0.052538  -0.087509     1.000000   -0.597465   \n",
       "Crime_Rate    -0.028996 -0.014438   0.065937    -0.597465    1.000000   \n",
       "Zipcode       -0.075111 -0.014279   0.102555    -0.191964    0.270189   \n",
       "House_Price    0.124467  0.057346  -0.016291     0.099872   -0.142806   \n",
       "\n",
       "                Zipcode  House_Price  \n",
       "School_Rating -0.402891     0.081382  \n",
       "House_Area     0.050490     0.927668  \n",
       "Lot_Area       0.020762     0.875865  \n",
       "Room_No        0.018870     0.892501  \n",
       "Bath_No       -0.007733     0.816760  \n",
       "Garage        -0.075111     0.124467  \n",
       "Pool          -0.014279     0.057346  \n",
       "House_Age      0.102555    -0.016291  \n",
       "Walkability   -0.191964     0.099872  \n",
       "Crime_Rate     0.270189    -0.142806  \n",
       "Zipcode        1.000000    -0.008307  \n",
       "House_Price   -0.008307     1.000000  "
      ]
     },
     "execution_count": 6,
     "metadata": {},
     "output_type": "execute_result"
    }
   ],
   "source": [
    "data.corr()"
   ]
  },
  {
   "cell_type": "code",
   "execution_count": 7,
   "id": "a877c32b",
   "metadata": {},
   "outputs": [
    {
     "data": {
      "image/png": "[encoded data removed]",
      "text/plain": [
       "<Figure size 432x288 with 2 Axes>"
      ]
     },
     "metadata": {
      "needs_background": "light"
     },
     "output_type": "display_data"
    }
   ],
   "source": [
    "sns.heatmap(data.corr());"
   ]
  },
  {
   "cell_type": "markdown",
   "id": "406dd339",
   "metadata": {},
   "source": [
    "##### \"Walkability\" feature has the strongest correlation with the \"School_Rating\""
   ]
  },
  {
   "cell_type": "markdown",
   "id": "07f3a37a",
   "metadata": {},
   "source": [
    "1.4 Split your dataset into two (training 80%, validation (testing) %20, random_state=1). Build a multiple linear regression model to estimate the house price from all the other features we have and calculate the maximum relative error using  100∗max|(𝑦𝑖−𝑦̂ 𝑖)/𝑦𝑖|  and  𝑅2 , where  𝑦𝑖  is the true value for the  𝑖𝑡ℎ  case in your testing data set and  𝑦̂ 𝑖  is the prediction."
   ]
  },
  {
   "cell_type": "code",
   "execution_count": 8,
   "id": "f063d06d",
   "metadata": {},
   "outputs": [],
   "source": [
    "X = data.drop('House_Price', axis=1)\n",
    "Y = data['House_Price']"
   ]
  },
  {
   "cell_type": "code",
   "execution_count": 9,
   "id": "8a2dea9d",
   "metadata": {},
   "outputs": [],
   "source": [
    "X_train, X_test, Y_train, Y_test = train_test_split(X, Y, test_size = 0.2, random_state=1)"
   ]
  },
  {
   "cell_type": "code",
   "execution_count": 10,
   "id": "3e34874a",
   "metadata": {},
   "outputs": [
    {
     "name": "stdout",
     "output_type": "stream",
     "text": [
      "Training samples: 320\n",
      "Test samples: 80\n"
     ]
    }
   ],
   "source": [
    "print(f'Training samples: {X_train.shape[0]:,}')\n",
    "print(f'Test samples: {X_test.shape[0]:,}')"
   ]
  },
  {
   "cell_type": "code",
   "execution_count": 11,
   "id": "14e93d92",
   "metadata": {},
   "outputs": [
    {
     "name": "stdout",
     "output_type": "stream",
     "text": [
      "max_relative_error : 8.64644433790021\n",
      "r2 : 0.9774507111556616\n"
     ]
    }
   ],
   "source": [
    "# Linear Regression model fitting.\n",
    "model = LinearRegression()\n",
    "model.fit(X_train, Y_train)\n",
    "y_test_predict = model.predict(X_test)\n",
    "\n",
    "# model evaluation\n",
    "max_relative_error = np.amax(np.absolute(Y_test-y_test_predict)/(np.amax(Y_test)-np.amin(Y_test)))\n",
    "print('max_relative_error :', 100*max_relative_error)\n",
    "r2 = r2_score(Y_test, y_test_predict)\n",
    "print(f'r2 : {r2}')"
   ]
  },
  {
   "cell_type": "markdown",
   "id": "cf6ffc9f",
   "metadata": {},
   "source": [
    "1.5 Download the new test dataset (https://raw.githubusercontent.com/simsekergun/DATA601/main/2021Fall/datasets/HouseTest.csv), guess the prices of these 10 houses featured in this dataset and print your predictions. Note that this dataset doesn't include \"House_Price\" column which was given in the training dataset."
   ]
  },
  {
   "cell_type": "code",
   "execution_count": 12,
   "id": "38c152b2",
   "metadata": {},
   "outputs": [],
   "source": [
    "house_price_predict = pd.read_csv(\"https://raw.githubusercontent.com/simsekergun/DATA601/main/2021Fall/datasets/HouseTest.csv\").drop(\"Unnamed: 0\",axis=1)"
   ]
  },
  {
   "cell_type": "code",
   "execution_count": 13,
   "id": "47b35595",
   "metadata": {},
   "outputs": [
    {
     "data": {
      "text/html": [
       "<div>\n",
       "<style scoped>\n",
       "    .dataframe tbody tr th:only-of-type {\n",
       "        vertical-align: middle;\n",
       "    }\n",
       "\n",
       "    .dataframe tbody tr th {\n",
       "        vertical-align: top;\n",
       "    }\n",
       "\n",
       "    .dataframe thead th {\n",
       "        text-align: right;\n",
       "    }\n",
       "</style>\n",
       "<table border=\"1\" class=\"dataframe\">\n",
       "  <thead>\n",
       "    <tr style=\"text-align: right;\">\n",
       "      <th></th>\n",
       "      <th>School_Rating</th>\n",
       "      <th>House_Area</th>\n",
       "      <th>Lot_Area</th>\n",
       "      <th>Room_No</th>\n",
       "      <th>Bath_No</th>\n",
       "      <th>Garage</th>\n",
       "      <th>Pool</th>\n",
       "      <th>House_Age</th>\n",
       "      <th>Walkability</th>\n",
       "      <th>Crime_Rate</th>\n",
       "      <th>Zipcode</th>\n",
       "    </tr>\n",
       "  </thead>\n",
       "  <tbody>\n",
       "    <tr>\n",
       "      <th>0</th>\n",
       "      <td>8</td>\n",
       "      <td>2030</td>\n",
       "      <td>4715</td>\n",
       "      <td>3.0</td>\n",
       "      <td>2.0</td>\n",
       "      <td>1.0</td>\n",
       "      <td>1.0</td>\n",
       "      <td>48</td>\n",
       "      <td>7.0</td>\n",
       "      <td>4</td>\n",
       "      <td>20166</td>\n",
       "    </tr>\n",
       "    <tr>\n",
       "      <th>1</th>\n",
       "      <td>8</td>\n",
       "      <td>1739</td>\n",
       "      <td>5499</td>\n",
       "      <td>2.0</td>\n",
       "      <td>2.0</td>\n",
       "      <td>0.0</td>\n",
       "      <td>1.0</td>\n",
       "      <td>37</td>\n",
       "      <td>8.0</td>\n",
       "      <td>3</td>\n",
       "      <td>20166</td>\n",
       "    </tr>\n",
       "    <tr>\n",
       "      <th>2</th>\n",
       "      <td>7</td>\n",
       "      <td>3628</td>\n",
       "      <td>5689</td>\n",
       "      <td>5.0</td>\n",
       "      <td>5.0</td>\n",
       "      <td>1.0</td>\n",
       "      <td>0.0</td>\n",
       "      <td>59</td>\n",
       "      <td>6.0</td>\n",
       "      <td>4</td>\n",
       "      <td>20170</td>\n",
       "    </tr>\n",
       "    <tr>\n",
       "      <th>3</th>\n",
       "      <td>4</td>\n",
       "      <td>2019</td>\n",
       "      <td>5441</td>\n",
       "      <td>3.0</td>\n",
       "      <td>2.0</td>\n",
       "      <td>0.0</td>\n",
       "      <td>0.0</td>\n",
       "      <td>2</td>\n",
       "      <td>4.0</td>\n",
       "      <td>8</td>\n",
       "      <td>20124</td>\n",
       "    </tr>\n",
       "    <tr>\n",
       "      <th>4</th>\n",
       "      <td>9</td>\n",
       "      <td>2311</td>\n",
       "      <td>6227</td>\n",
       "      <td>3.0</td>\n",
       "      <td>3.0</td>\n",
       "      <td>1.0</td>\n",
       "      <td>0.0</td>\n",
       "      <td>17</td>\n",
       "      <td>8.0</td>\n",
       "      <td>5</td>\n",
       "      <td>20165</td>\n",
       "    </tr>\n",
       "  </tbody>\n",
       "</table>\n",
       "</div>"
      ],
      "text/plain": [
       "   School_Rating  House_Area  Lot_Area  Room_No  Bath_No  Garage  Pool  \\\n",
       "0              8        2030      4715      3.0      2.0     1.0   1.0   \n",
       "1              8        1739      5499      2.0      2.0     0.0   1.0   \n",
       "2              7        3628      5689      5.0      5.0     1.0   0.0   \n",
       "3              4        2019      5441      3.0      2.0     0.0   0.0   \n",
       "4              9        2311      6227      3.0      3.0     1.0   0.0   \n",
       "\n",
       "   House_Age  Walkability  Crime_Rate  Zipcode  \n",
       "0         48          7.0           4    20166  \n",
       "1         37          8.0           3    20166  \n",
       "2         59          6.0           4    20170  \n",
       "3          2          4.0           8    20124  \n",
       "4         17          8.0           5    20165  "
      ]
     },
     "execution_count": 13,
     "metadata": {},
     "output_type": "execute_result"
    }
   ],
   "source": [
    "house_price_predict.head()"
   ]
  },
  {
   "cell_type": "code",
   "execution_count": 14,
   "id": "6c7bd21a",
   "metadata": {},
   "outputs": [
    {
     "name": "stdout",
     "output_type": "stream",
     "text": [
      "predicted values\n"
     ]
    },
    {
     "data": {
      "text/plain": [
       "array([ 8561819.44871832,  8980294.32638028, 12881526.36890044,\n",
       "        8599287.43466798, 10511332.01790487, 12921742.59768683,\n",
       "       10019012.08221003, 11708426.88573512, 13117137.55306435,\n",
       "        6771455.75731299])"
      ]
     },
     "execution_count": 14,
     "metadata": {},
     "output_type": "execute_result"
    }
   ],
   "source": [
    "print('predicted values')\n",
    "model.predict(pd.DataFrame(house_price_predict))"
   ]
  },
  {
   "cell_type": "markdown",
   "id": "d41f9847-94e1-4cd8-8d0c-09b353bcf1e8",
   "metadata": {},
   "source": [
    "## Q2. (10 points)"
   ]
  },
  {
   "cell_type": "markdown",
   "id": "fed6b1fa-9698-4a90-9431-8c0be84a8691",
   "metadata": {},
   "source": [
    "The Default data set of the ISLR2 package contains data about ten thousand customers. We know the balance of their bank account, their annual income and whether they are a student. You can download the dataset here: https://github.com/simsekergun/DATA601/blob/main/2021Fall/datasets/Default.xlsx?raw=true'"
   ]
  },
  {
   "cell_type": "markdown",
   "id": "e0cacba4-a30a-435a-8ce1-2417f9a1ea59",
   "metadata": {},
   "source": [
    "Let's replace yes' and no's with 1's and 0's using the factorize() function. Note that factorize() returns two objects: a label array and an array with the unique values. We are only interested in the first object, i.e. <br>\n",
    "<code>df = pd.read_excel('https://github.com/simsekergun/DATA601/blob/main/2021Fall/datasets/Default.xlsx?raw=true',index_col=[0]) </code> <br>\n",
    "<code>df['default'] = df.default.factorize()[0]</code>  <br>\n",
    "<code>df['student'] = df.student.factorize()[0]</code> <br>\n"
   ]
  },
  {
   "cell_type": "markdown",
   "id": "232a3cc0-5917-4260-85f2-ef17717c62b0",
   "metadata": {},
   "source": [
    "Here the steps/questions you need to follow <br>\n",
    "<b>2.1</b> Plot the histograms of the features in this dataset. What kinds of distributions do you see? <br>\n",
    "<b>2.2</b> Boxplot 'default vs balance' and 'default vs income'. Which one has outliers? <br> \n",
    "<b>2.3</b> Split your dataset into two (training 80\\%, validation (testing) \\%20, random_state=1). Build a simple logistic regression model to predict default from balance feature only. Create the confusion matrix and calculate accuracy, sensitivity, and specificity. <br> \n",
    "<b>2.4</b> Repeat 2.3 but this time use 'balance','income', and 'student' features to predict the default with a multiple logistic regression model. Create the confusion matrix and calculate accuracy, sensitivity, and specificity.  <br>\n",
    "<b>2.5</b> What does having a high sensitivity and a low specificity mean?<br>"
   ]
  },
  {
   "cell_type": "code",
   "execution_count": 15,
   "id": "03ffca95-7d1b-4f8b-acd5-a3e7f1ddfbe1",
   "metadata": {},
   "outputs": [],
   "source": [
    "#df = pd.read_excel('Default.xlsx', engine='openpyxl').drop(\"Unnamed: 0\",axis=1)"
   ]
  },
  {
   "cell_type": "code",
   "execution_count": 16,
   "id": "9abd6ba2",
   "metadata": {},
   "outputs": [
    {
     "name": "stderr",
     "output_type": "stream",
     "text": [
      "C:\\Users\\DELL\\anaconda3\\envs\\GAN\\lib\\site-packages\\openpyxl\\styles\\stylesheet.py:226: UserWarning: Workbook contains no default style, apply openpyxl's default\n",
      "  warn(\"Workbook contains no default style, apply openpyxl's default\")\n"
     ]
    }
   ],
   "source": [
    "df = pd.read_excel('https://github.com/simsekergun/DATA601/blob/main/2021Fall/datasets/Default.xlsx?raw=true',index_col=[0]) \n",
    "df['default'] = df.default.factorize()[0]\n",
    "df['student'] = df.student.factorize()[0]"
   ]
  },
  {
   "cell_type": "code",
   "execution_count": 17,
   "id": "63c0bb6a",
   "metadata": {},
   "outputs": [
    {
     "data": {
      "text/html": [
       "<div>\n",
       "<style scoped>\n",
       "    .dataframe tbody tr th:only-of-type {\n",
       "        vertical-align: middle;\n",
       "    }\n",
       "\n",
       "    .dataframe tbody tr th {\n",
       "        vertical-align: top;\n",
       "    }\n",
       "\n",
       "    .dataframe thead th {\n",
       "        text-align: right;\n",
       "    }\n",
       "</style>\n",
       "<table border=\"1\" class=\"dataframe\">\n",
       "  <thead>\n",
       "    <tr style=\"text-align: right;\">\n",
       "      <th></th>\n",
       "      <th>default</th>\n",
       "      <th>student</th>\n",
       "      <th>balance</th>\n",
       "      <th>income</th>\n",
       "    </tr>\n",
       "  </thead>\n",
       "  <tbody>\n",
       "    <tr>\n",
       "      <th>1</th>\n",
       "      <td>0</td>\n",
       "      <td>0</td>\n",
       "      <td>729.526495</td>\n",
       "      <td>44361.625074</td>\n",
       "    </tr>\n",
       "    <tr>\n",
       "      <th>2</th>\n",
       "      <td>0</td>\n",
       "      <td>1</td>\n",
       "      <td>817.180407</td>\n",
       "      <td>12106.134700</td>\n",
       "    </tr>\n",
       "    <tr>\n",
       "      <th>3</th>\n",
       "      <td>0</td>\n",
       "      <td>0</td>\n",
       "      <td>1073.549164</td>\n",
       "      <td>31767.138947</td>\n",
       "    </tr>\n",
       "    <tr>\n",
       "      <th>4</th>\n",
       "      <td>0</td>\n",
       "      <td>0</td>\n",
       "      <td>529.250605</td>\n",
       "      <td>35704.493935</td>\n",
       "    </tr>\n",
       "    <tr>\n",
       "      <th>5</th>\n",
       "      <td>0</td>\n",
       "      <td>0</td>\n",
       "      <td>785.655883</td>\n",
       "      <td>38463.495879</td>\n",
       "    </tr>\n",
       "  </tbody>\n",
       "</table>\n",
       "</div>"
      ],
      "text/plain": [
       "   default  student      balance        income\n",
       "1        0        0   729.526495  44361.625074\n",
       "2        0        1   817.180407  12106.134700\n",
       "3        0        0  1073.549164  31767.138947\n",
       "4        0        0   529.250605  35704.493935\n",
       "5        0        0   785.655883  38463.495879"
      ]
     },
     "execution_count": 17,
     "metadata": {},
     "output_type": "execute_result"
    }
   ],
   "source": [
    "df.head()"
   ]
  },
  {
   "cell_type": "code",
   "execution_count": 18,
   "id": "4666dc1b",
   "metadata": {},
   "outputs": [
    {
     "data": {
      "image/png": "[encoded data removed]",
      "text/plain": [
       "<Figure size 720x720 with 4 Axes>"
      ]
     },
     "metadata": {
      "needs_background": "light"
     },
     "output_type": "display_data"
    }
   ],
   "source": [
    "plt.rcParams[\"figure.figsize\"] = (10,10)\n",
    "df.hist()\n",
    "plt.show()"
   ]
  },
  {
   "cell_type": "markdown",
   "id": "38fec0e9",
   "metadata": {},
   "source": [
    "- From the above figure we can notice that default and student features were distributed in a binary manner.\n",
    "- Balance feature is negativly skewed.\n",
    "- Income feature is distributed normally with two peaks."
   ]
  },
  {
   "cell_type": "markdown",
   "id": "efbdf791",
   "metadata": {},
   "source": [
    "2.2 Boxplot 'default vs balance' and 'default vs income'. Which one has outliers?"
   ]
  },
  {
   "cell_type": "code",
   "execution_count": 19,
   "id": "1a8347e5",
   "metadata": {},
   "outputs": [
    {
     "data": {
      "image/png": "[encoded data removed]",
      "text/plain": [
       "<Figure size 720x720 with 1 Axes>"
      ]
     },
     "metadata": {
      "needs_background": "light"
     },
     "output_type": "display_data"
    }
   ],
   "source": [
    "default = df[\"default\"]\n",
    "income = df['income']\n",
    "columns = [default, income]\n",
    "\n",
    "fig, ax = plt.subplots()\n",
    "ax.boxplot(columns)\n",
    "plt.xticks([1, 2], [\"default\",\"income\"])\n",
    "plt.show()"
   ]
  },
  {
   "cell_type": "markdown",
   "id": "99cfc1e4",
   "metadata": {},
   "source": [
    "- There are no outliers for both."
   ]
  },
  {
   "cell_type": "code",
   "execution_count": 20,
   "id": "7389bded",
   "metadata": {},
   "outputs": [
    {
     "data": {
      "image/png": "[encoded data removed]",
      "text/plain": [
       "<Figure size 720x720 with 1 Axes>"
      ]
     },
     "metadata": {
      "needs_background": "light"
     },
     "output_type": "display_data"
    }
   ],
   "source": [
    "default = df['default']\n",
    "balance = df['balance']\n",
    "columns = [default, balance]\n",
    "\n",
    "fig, ax = plt.subplots()\n",
    "ax.boxplot(columns)\n",
    "plt.xticks([1, 2], [\"default\",\"balance\"])\n",
    "plt.show()"
   ]
  },
  {
   "cell_type": "markdown",
   "id": "8e169f01",
   "metadata": {},
   "source": [
    "#### - We can notice from the above figure(default vs balance), balance feature has the outliers."
   ]
  },
  {
   "cell_type": "markdown",
   "id": "ecc4e389",
   "metadata": {},
   "source": [
    "2.3 Split your dataset into two (training 80%, validation (testing) %20, random_state=1). Build a simple logistic regression model to predict default from balance feature only. Create the confusion matrix and calculate accuracy, sensitivity, and specificity.\n"
   ]
  },
  {
   "cell_type": "code",
   "execution_count": 21,
   "id": "652b2aad",
   "metadata": {},
   "outputs": [
    {
     "data": {
      "text/html": [
       "<div>\n",
       "<style scoped>\n",
       "    .dataframe tbody tr th:only-of-type {\n",
       "        vertical-align: middle;\n",
       "    }\n",
       "\n",
       "    .dataframe tbody tr th {\n",
       "        vertical-align: top;\n",
       "    }\n",
       "\n",
       "    .dataframe thead th {\n",
       "        text-align: right;\n",
       "    }\n",
       "</style>\n",
       "<table border=\"1\" class=\"dataframe\">\n",
       "  <thead>\n",
       "    <tr style=\"text-align: right;\">\n",
       "      <th></th>\n",
       "      <th>default</th>\n",
       "      <th>student</th>\n",
       "      <th>balance</th>\n",
       "      <th>income</th>\n",
       "    </tr>\n",
       "  </thead>\n",
       "  <tbody>\n",
       "    <tr>\n",
       "      <th>1</th>\n",
       "      <td>0</td>\n",
       "      <td>0</td>\n",
       "      <td>729.526495</td>\n",
       "      <td>44361.625074</td>\n",
       "    </tr>\n",
       "    <tr>\n",
       "      <th>2</th>\n",
       "      <td>0</td>\n",
       "      <td>1</td>\n",
       "      <td>817.180407</td>\n",
       "      <td>12106.134700</td>\n",
       "    </tr>\n",
       "    <tr>\n",
       "      <th>3</th>\n",
       "      <td>0</td>\n",
       "      <td>0</td>\n",
       "      <td>1073.549164</td>\n",
       "      <td>31767.138947</td>\n",
       "    </tr>\n",
       "    <tr>\n",
       "      <th>4</th>\n",
       "      <td>0</td>\n",
       "      <td>0</td>\n",
       "      <td>529.250605</td>\n",
       "      <td>35704.493935</td>\n",
       "    </tr>\n",
       "    <tr>\n",
       "      <th>5</th>\n",
       "      <td>0</td>\n",
       "      <td>0</td>\n",
       "      <td>785.655883</td>\n",
       "      <td>38463.495879</td>\n",
       "    </tr>\n",
       "  </tbody>\n",
       "</table>\n",
       "</div>"
      ],
      "text/plain": [
       "   default  student      balance        income\n",
       "1        0        0   729.526495  44361.625074\n",
       "2        0        1   817.180407  12106.134700\n",
       "3        0        0  1073.549164  31767.138947\n",
       "4        0        0   529.250605  35704.493935\n",
       "5        0        0   785.655883  38463.495879"
      ]
     },
     "execution_count": 21,
     "metadata": {},
     "output_type": "execute_result"
    }
   ],
   "source": [
    "df.head()"
   ]
  },
  {
   "cell_type": "code",
   "execution_count": 22,
   "id": "7e4a64c9",
   "metadata": {},
   "outputs": [],
   "source": [
    "x = df['balance'].values.reshape(-1, 1)\n",
    "y = df['default']"
   ]
  },
  {
   "cell_type": "code",
   "execution_count": 23,
   "id": "2ad10672",
   "metadata": {},
   "outputs": [],
   "source": [
    "X_train, X_test, y_train, y_test = train_test_split(x, y, test_size=0.2, random_state=1)\n",
    "logreg = LogisticRegression()\n",
    "logreg.fit(X_train, y_train)\n",
    "y_predict = logreg.predict(X_test)"
   ]
  },
  {
   "cell_type": "code",
   "execution_count": 24,
   "id": "d295160f",
   "metadata": {},
   "outputs": [
    {
     "name": "stdout",
     "output_type": "stream",
     "text": [
      "Confusion Matrix : \n",
      " [[1930   11]\n",
      " [  40   19]]\n",
      "Accuracy :  0.9745\n",
      "Sensitivity :  0.994332818134982\n",
      "Specificity :  0.3220338983050847\n"
     ]
    }
   ],
   "source": [
    "# Referred from class notes.\n",
    "cm1 = confusion_matrix(y_test,y_predict)\n",
    "print('Confusion Matrix : \\n', cm1)\n",
    "\n",
    "total1=sum(sum(cm1))\n",
    "\n",
    "accuracy1=(cm1[0,0]+cm1[1,1])/total1\n",
    "print ('Accuracy : ', accuracy1)\n",
    "\n",
    "sensitivity1 = cm1[0,0]/(cm1[0,0]+cm1[0,1])\n",
    "print('Sensitivity : ', sensitivity1 )\n",
    "\n",
    "specificity1 = cm1[1,1]/(cm1[1,0]+cm1[1,1])\n",
    "print('Specificity : ', specificity1)"
   ]
  },
  {
   "cell_type": "markdown",
   "id": "70846891",
   "metadata": {},
   "source": [
    "2.4 Repeat 2.3 but this time use 'balance','income', and 'student' features to predict the default with a multiple logistic regression model. Create the confusion matrix and calculate accuracy, sensitivity, and specificity.\n"
   ]
  },
  {
   "cell_type": "code",
   "execution_count": 25,
   "id": "60b188ab",
   "metadata": {},
   "outputs": [],
   "source": [
    "X = df.drop('default', axis=1)\n",
    "Y = df['default']"
   ]
  },
  {
   "cell_type": "code",
   "execution_count": 26,
   "id": "f4ef8a3f",
   "metadata": {},
   "outputs": [],
   "source": [
    "X_train, X_test, y_train, y_test = train_test_split(x, y, test_size=0.2, random_state=1)\n",
    "logreg = LogisticRegression()\n",
    "logreg.fit(X_train, y_train)\n",
    "y_predict = logreg.predict(X_test)"
   ]
  },
  {
   "cell_type": "code",
   "execution_count": 27,
   "id": "26bb273a",
   "metadata": {},
   "outputs": [
    {
     "name": "stdout",
     "output_type": "stream",
     "text": [
      "Confusion Matrix : \n",
      " [[1930   11]\n",
      " [  40   19]]\n",
      "Accuracy :  0.9745\n",
      "Sensitivity :  0.994332818134982\n",
      "Specificity :  0.3220338983050847\n"
     ]
    }
   ],
   "source": [
    "cm1 = confusion_matrix(y_test,y_predict)\n",
    "print('Confusion Matrix : \\n', cm1)\n",
    "\n",
    "total1=sum(sum(cm1))\n",
    "\n",
    "accuracy1=(cm1[0,0]+cm1[1,1])/total1\n",
    "print ('Accuracy : ', accuracy1)\n",
    "\n",
    "sensitivity1 = cm1[0,0]/(cm1[0,0]+cm1[0,1])\n",
    "print('Sensitivity : ', sensitivity1 )\n",
    "\n",
    "specificity1 = cm1[1,1]/(cm1[1,0]+cm1[1,1])\n",
    "print('Specificity : ', specificity1)"
   ]
  },
  {
   "cell_type": "markdown",
   "id": "633535a6",
   "metadata": {},
   "source": [
    "2.5 What does having a high sensitivity and a low specificity mean?"
   ]
  },
  {
   "cell_type": "markdown",
   "id": "041600f9",
   "metadata": {},
   "source": [
    "- A highly sensitive test means that there are few false negative results.\n",
    "- The lower value of specificity would mean lower value of true negative and higher value of false positive."
   ]
  },
  {
   "cell_type": "code",
   "execution_count": null,
   "id": "2dfa1ca0",
   "metadata": {},
   "outputs": [],
   "source": []
  }
 ],
 "metadata": {
  "kernelspec": {
   "display_name": "Python 3",
   "language": "python",
   "name": "python3"
  },
  "language_info": {
   "codemirror_mode": {
    "name": "ipython",
    "version": 3
   },
   "file_extension": ".py",
   "mimetype": "text/x-python",
   "name": "python",
   "nbconvert_exporter": "python",
   "pygments_lexer": "ipython3",
   "version": "3.8.0"
  }
 },
 "nbformat": 4,
 "nbformat_minor": 5
}
