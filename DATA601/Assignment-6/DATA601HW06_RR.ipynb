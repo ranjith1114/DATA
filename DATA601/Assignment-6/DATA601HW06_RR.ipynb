{
 "cells": [
  {
   "cell_type": "markdown",
   "metadata": {
    "id": "ge2dnV2gmHjo"
   },
   "source": [
    "# DATA601 Homework Assignment 6\n",
    "Due Date: Sunday, December 5, 23:50 PM"
   ]
  },
  {
   "cell_type": "code",
   "execution_count": 1,
   "metadata": {
    "executionInfo": {
     "elapsed": 126,
     "status": "ok",
     "timestamp": 1638287114749,
     "user": {
      "displayName": "Ergun Simsek",
      "photoUrl": "https://lh3.googleusercontent.com/a-/AOh14Gg-wjHaTCL8nW1-WBjkR0PKajXbyfc3UgfX4HpB=s64",
      "userId": "16739529127101354422"
     },
     "user_tz": 300
    },
    "id": "LuYj3MYf9Usk"
   },
   "outputs": [],
   "source": [
    "import re"
   ]
  },
  {
   "cell_type": "markdown",
   "metadata": {
    "id": "-baHpqUZmHjo"
   },
   "source": [
    "#### Q1\n",
    "Write a regexp that will find all the Data Science courses mentioned in the following sentence. <br>\n",
    "<code> sentence1 = 'So far, I took DATA 601, DATA 604, and DATA 605. Next semester I will take DATA 602.'</code> <br>\n",
    "such that the output will look like <br>\n",
    "<code> ['DATA 601', 'DATA 604', 'DATA 605', 'DATA 602'] </code>"
   ]
  },
  {
   "cell_type": "code",
   "execution_count": 2,
   "metadata": {
    "executionInfo": {
     "elapsed": 4,
     "status": "ok",
     "timestamp": 1638287114887,
     "user": {
      "displayName": "Ergun Simsek",
      "photoUrl": "https://lh3.googleusercontent.com/a-/AOh14Gg-wjHaTCL8nW1-WBjkR0PKajXbyfc3UgfX4HpB=s64",
      "userId": "16739529127101354422"
     },
     "user_tz": 300
    },
    "id": "H5qqohJBmHjo"
   },
   "outputs": [
    {
     "name": "stdout",
     "output_type": "stream",
     "text": [
      "['DATA 601', 'DATA 604', 'DATA 605', 'DATA 602']\n"
     ]
    }
   ],
   "source": [
    "sentence1 = 'So far, I took DATA 601, DATA 604, and DATA 605. Next semester I will take DATA 602.'\n",
    "# Answer\n",
    "\n",
    "r = re.compile(r\"DATA 60[0-9]\")\n",
    "newlist = r.findall(sentence1)\n",
    "print(newlist)"
   ]
  },
  {
   "cell_type": "markdown",
   "metadata": {
    "id": "EcNIDtY-Y3IX"
   },
   "source": [
    "### Q2\n",
    "Write a regexp that will find all the Data Science courses mentioned in the following sentence. <br>\n",
    "<code> sentence2 = 'So far, I took DATA601, DATA-604, and DATA 605. Next semester I will take DATA602.'</code><br>\n",
    "such that the output will look like <br>\n",
    "<code> ['DATA601', 'DATA-604', 'DATA 605', 'DATA602'] </code>"
   ]
  },
  {
   "cell_type": "code",
   "execution_count": 3,
   "metadata": {
    "executionInfo": {
     "elapsed": 4,
     "status": "ok",
     "timestamp": 1638287114887,
     "user": {
      "displayName": "Ergun Simsek",
      "photoUrl": "https://lh3.googleusercontent.com/a-/AOh14Gg-wjHaTCL8nW1-WBjkR0PKajXbyfc3UgfX4HpB=s64",
      "userId": "16739529127101354422"
     },
     "user_tz": 300
    },
    "id": "MCHb2vo0Y4KG"
   },
   "outputs": [
    {
     "name": "stdout",
     "output_type": "stream",
     "text": [
      "['DATA601', 'DATA-604', 'DATA 605', 'DATA602']\n"
     ]
    }
   ],
   "source": [
    "sentence2 = 'So far, I took DATA601, DATA-604, and DATA 605. Next semester I will take DATA602.'\n",
    "# Answer\n",
    "r = re.compile(r\"DATA.?60[0-9]\")\n",
    "newlist = r.findall(sentence2)\n",
    "print(newlist)"
   ]
  },
  {
   "cell_type": "markdown",
   "metadata": {
    "id": "VDRyM6FLaH0V"
   },
   "source": [
    "### Q3\n",
    "Write a regexp that will find all the graduate courses mentioned in the following sentence. <br>\n",
    "<code> sentence3 = 'So far, I took DATA 601, ENMG 652, and DATA 605. Next semester I will take DATA 602.'</code><br>\n",
    "such that the output will look like <br>\n",
    "<code> ['DATA 601', 'ENMG 652', 'DATA 605', 'DATA 602'] </code>"
   ]
  },
  {
   "cell_type": "code",
   "execution_count": 4,
   "metadata": {
    "executionInfo": {
     "elapsed": 3,
     "status": "ok",
     "timestamp": 1638287114887,
     "user": {
      "displayName": "Ergun Simsek",
      "photoUrl": "https://lh3.googleusercontent.com/a-/AOh14Gg-wjHaTCL8nW1-WBjkR0PKajXbyfc3UgfX4HpB=s64",
      "userId": "16739529127101354422"
     },
     "user_tz": 300
    },
    "id": "BdnCwYBGaH-s"
   },
   "outputs": [
    {
     "name": "stdout",
     "output_type": "stream",
     "text": [
      "['DATA 601', 'ENMG 652', 'DATA 605', 'DATA 602']\n"
     ]
    }
   ],
   "source": [
    "sentence3 = 'So far, I took DATA 601, ENMG 652, and DATA 605. Next semester I will take DATA 602.'\n",
    "# Answer\n",
    "\n",
    "\n",
    "r = re.compile(r\"[a-zA-Z]{4}.?6[0-9][0-9]\")\n",
    "newlist = r.findall(sentence3)\n",
    "print(newlist)"
   ]
  },
  {
   "cell_type": "markdown",
   "metadata": {
    "id": "74wnPRYfmHjo"
   },
   "source": [
    "#### Q4\n",
    "Write a regexp that will match any Python Notebook (.ipynb) file in the following list. <br>\n",
    "<code> Files = ['lecture1.ipynb','lecture2.ipynb','lecture3.doc','lecture4.py','solutions.ipynb'] </code> <br>\n",
    "and print the list, e.g. your output will look like <br>\n",
    "<code>['lecture1.ipynb', 'lecture2.ipynb', 'solutions.ipynb']</code>"
   ]
  },
  {
   "cell_type": "code",
   "execution_count": 5,
   "metadata": {
    "executionInfo": {
     "elapsed": 4,
     "status": "ok",
     "timestamp": 1638287114888,
     "user": {
      "displayName": "Ergun Simsek",
      "photoUrl": "https://lh3.googleusercontent.com/a-/AOh14Gg-wjHaTCL8nW1-WBjkR0PKajXbyfc3UgfX4HpB=s64",
      "userId": "16739529127101354422"
     },
     "user_tz": 300
    },
    "id": "9-wpHBlBmHjo"
   },
   "outputs": [
    {
     "name": "stdout",
     "output_type": "stream",
     "text": [
      "['lecture1.ipynb', 'lecture2.ipynb', 'solutions.ipynb']\n"
     ]
    }
   ],
   "source": [
    "Files = ['lecture1.ipynb','lecture2.ipynb','lecture3.doc','lecture4.py','solutions.ipynb']\n",
    "# Answer\n",
    "r = re.compile(r\"[^ ]+\\.ipynb\")\n",
    "newlist = list(filter(r.match, Files)) \n",
    "print(newlist)"
   ]
  },
  {
   "cell_type": "markdown",
   "metadata": {
    "id": "9FC373pbmHjp"
   },
   "source": [
    "#### Q5\n",
    "Create a regexp which detects Microsoft Word file names (either *.doc or *.docx) which contain at a numeral, and print their names for the following list <br>\n",
    "<code>Files2 = ['hw1.docx','hw2.docx','hw3.py','hw_last.docx','hw5.doc'] </code>"
   ]
  },
  {
   "cell_type": "code",
   "execution_count": 6,
   "metadata": {
    "executionInfo": {
     "elapsed": 4,
     "status": "ok",
     "timestamp": 1638287114888,
     "user": {
      "displayName": "Ergun Simsek",
      "photoUrl": "https://lh3.googleusercontent.com/a-/AOh14Gg-wjHaTCL8nW1-WBjkR0PKajXbyfc3UgfX4HpB=s64",
      "userId": "16739529127101354422"
     },
     "user_tz": 300
    },
    "id": "rxQKTS4LmHjp"
   },
   "outputs": [
    {
     "name": "stdout",
     "output_type": "stream",
     "text": [
      "['hw1.docx', 'hw2.docx', 'hw5.doc']\n"
     ]
    }
   ],
   "source": [
    "Files2 = ['hw1.docx','hw2.docx','hw3.py','hw_last.docx','hw5.doc']\n",
    "# Answer\n",
    "r = re.compile(r\"[^ ]+\\d.doc\")\n",
    "newlist = list(filter(r.match, Files2)) \n",
    "print(newlist)"
   ]
  },
  {
   "cell_type": "markdown",
   "metadata": {
    "id": "sxQBZZb_mHjp"
   },
   "source": [
    "### Q6. \n",
    "Compile a pattern that matches with web-addresses in the following sentence. <br> \n",
    "<code> sentence = 'Google\\'s address is www.google.com.' </code>"
   ]
  },
  {
   "cell_type": "code",
   "execution_count": 14,
   "metadata": {
    "executionInfo": {
     "elapsed": 3,
     "status": "ok",
     "timestamp": 1638287114888,
     "user": {
      "displayName": "Ergun Simsek",
      "photoUrl": "https://lh3.googleusercontent.com/a-/AOh14Gg-wjHaTCL8nW1-WBjkR0PKajXbyfc3UgfX4HpB=s64",
      "userId": "16739529127101354422"
     },
     "user_tz": 300
    },
    "id": "Bsort1Pb8qL1"
   },
   "outputs": [
    {
     "data": {
      "text/plain": [
       "['www.google.com.']"
      ]
     },
     "execution_count": 14,
     "metadata": {},
     "output_type": "execute_result"
    }
   ],
   "source": [
    "sentence = 'Google\\'s address is www.google.com.'\n",
    "pattern = r'[(http://)|\\w]*?[\\w]*\\.[-/\\w]*\\.\\w*[(/{1})]?[#-\\./\\w]*[(/{1,})]?'\n",
    "re.findall(pattern, sentence)\n",
    "\n",
    "#re.findall(\"\", sentence, flags=re.IGNORECASE)"
   ]
  },
  {
   "cell_type": "markdown",
   "metadata": {
    "id": "rAlXGNzE6lZm"
   },
   "source": [
    "### Q7\n",
    "Extract all the words in the following sentence <br>\n",
    "<code>sentence = 'OMG! There is a punctuation. I want to remove it?'</code> <br>\n",
    "The output should look like this <br>\n",
    "<code> ['OMG', 'There', 'is', 'a', 'punctuation', 'I', 'want', 'to', 'remove', 'it'] </code>"
   ]
  },
  {
   "cell_type": "code",
   "execution_count": 8,
   "metadata": {
    "executionInfo": {
     "elapsed": 2,
     "status": "ok",
     "timestamp": 1638287115107,
     "user": {
      "displayName": "Ergun Simsek",
      "photoUrl": "https://lh3.googleusercontent.com/a-/AOh14Gg-wjHaTCL8nW1-WBjkR0PKajXbyfc3UgfX4HpB=s64",
      "userId": "16739529127101354422"
     },
     "user_tz": 300
    },
    "id": "slYzlSA061I6"
   },
   "outputs": [
    {
     "data": {
      "text/plain": [
       "['OMG', 'There', 'is', 'a', 'punctuation', 'I', 'want', 'to', 'remove', 'it']"
      ]
     },
     "execution_count": 8,
     "metadata": {},
     "output_type": "execute_result"
    }
   ],
   "source": [
    "sentence = 'OMG! There is a punctuation. I want to remove it?'\n",
    "# Answer\n",
    "\n",
    "re.findall('[a-z]+', sentence, flags=re.IGNORECASE)"
   ]
  },
  {
   "cell_type": "code",
   "execution_count": null,
   "metadata": {
    "executionInfo": {
     "elapsed": 2,
     "status": "ok",
     "timestamp": 1638287115107,
     "user": {
      "displayName": "Ergun Simsek",
      "photoUrl": "https://lh3.googleusercontent.com/a-/AOh14Gg-wjHaTCL8nW1-WBjkR0PKajXbyfc3UgfX4HpB=s64",
      "userId": "16739529127101354422"
     },
     "user_tz": 300
    },
    "id": "lRFCfzyTgzEy"
   },
   "outputs": [],
   "source": []
  }
 ],
 "metadata": {
  "colab": {
   "authorship_tag": "ABX9TyPnlX/ysTW+kva+nywfQ+we",
   "collapsed_sections": [],
   "name": "DATA601HW06.ipynb",
   "provenance": [
    {
     "file_id": "1BfWpD7CWjNjlx6KIGlNZmAHD7dw65TQG",
     "timestamp": 1638226849718
    }
   ]
  },
  "kernelspec": {
   "display_name": "Python 3",
   "language": "python",
   "name": "python3"
  },
  "language_info": {
   "codemirror_mode": {
    "name": "ipython",
    "version": 3
   },
   "file_extension": ".py",
   "mimetype": "text/x-python",
   "name": "python",
   "nbconvert_exporter": "python",
   "pygments_lexer": "ipython3",
   "version": "3.8.0"
  }
 },
 "nbformat": 4,
 "nbformat_minor": 1
}
